{
 "cells": [
  {
   "cell_type": "markdown",
   "id": "90a8ea30",
   "metadata": {},
   "source": [
    "<div style=\"color: white;padding-top:18px;text-align:center;background-color:#610C9F;border-radius:15px;border: 1px solid white;\"> \n",
    "    <h3>Exercise 5 (score:200)</h3>\n",
    "</div>"
   ]
  },
  {
   "cell_type": "markdown",
   "id": "552ffa31",
   "metadata": {},
   "source": [
    "<div style=\"color: white;padding-top:18px;text-align:left;background-color:#940B92;border-radius:15px;border: 1px solid white;\"> \n",
    "    <h4>Question 01 (List):</h4>\n",
    "    <p>Create a Python program that first prompts the user to enter 10 numbers, which are then \n",
    "stored in a list. Subsequently, request the user to input a new number. If this new number \n",
    "is present in the list, remove all occurrences of it. if it's not found, insert the number twice \n",
    "at the beginning of the list. Finally, display the modified list to the user\n",
    "</p>\n",
    "</div>"
   ]
  },
  {
   "cell_type": "code",
   "execution_count": 2,
   "id": "e51f571e",
   "metadata": {},
   "outputs": [
    {
     "name": "stdout",
     "output_type": "stream",
     "text": [
      "The number you entered exist in the list, So the result is : []\n"
     ]
    }
   ],
   "source": [
    "l = []\n",
    "for i in range (10):\n",
    "    num = float(input(f\"Enter Number_{i}:\"))\n",
    "    l.append(num)\n",
    "\n",
    "new_num = float(input(\"Enter new number\"))\n",
    "\n",
    "if new_num in l:\n",
    "    new_num_count = l.count(new_num)\n",
    "    for i in range(new_num_count):\n",
    "        l.remove(new_num)\n",
    "    print(f\"The number you entered exist in the list, So the result is : {l}\")\n",
    "else:\n",
    "    for i in range(2):\n",
    "        l.insert(0,new_num)\n",
    "    print(f\"The Number you entered is not in the list, So the result is {l}\")\n"
   ]
  },
  {
   "cell_type": "markdown",
   "id": "5595502a",
   "metadata": {},
   "source": [
    "<div style=\"color: white;padding-top:18px;text-align:left;background-color:#940B92;border-radius:15px;border: 1px solid white;\"> \n",
    "    <h4>Question 02 (List)</h4>\n",
    "<p>\n",
    " Create a Python program that sorts elements from a list containing multiple data types—\n",
    "such as integers, floats, strings, and booleans—into lists of specific types. The program \n",
    "must iterate through the original mixed list, identifying the type of each element and \n",
    "adding it to the corresponding list assigned to that particular data type.\n",
    "\n",
    "</p>\n",
    "\n",
    "</div>"
   ]
  },
  {
   "cell_type": "code",
   "execution_count": 3,
   "id": "80c4f667",
   "metadata": {},
   "outputs": [
    {
     "name": "stdout",
     "output_type": "stream",
     "text": [
      "ints_list : [50]\n",
      " floats_list: [12.1]\n",
      " strings_list: ['apple', 'BMW']\n",
      " booleans_list: [True]\n"
     ]
    }
   ],
   "source": [
    "ints_list = []\n",
    "\n",
    "floats_list = []\n",
    "\n",
    "strings_list = []\n",
    "\n",
    "booleans_list = []\n",
    "\n",
    "my_list = [\"apple\",12.1,50,True,\"BMW\"]\n",
    "\n",
    "for i in my_list:\n",
    "    if type(i) == str:\n",
    "        strings_list.append(i)\n",
    "    elif type(i) == int:\n",
    "        ints_list.append(i)\n",
    "    elif type(i) == float:\n",
    "        floats_list.append(i)\n",
    "    elif type(i) == bool:\n",
    "        booleans_list.append(i)\n",
    "    else:\n",
    "        print(f\"Unsupported Data Type\")\n",
    "print(f\"ints_list : {ints_list}\\n floats_list: {floats_list}\\n strings_list: {strings_list}\\n booleans_list: {booleans_list}\")"
   ]
  },
  {
   "cell_type": "markdown",
   "id": "d1b1ce7f",
   "metadata": {},
   "source": [
    "<div style=\"color: white;padding-top:18px;text-align:center;background-color:#610C9F;border-radius:15px;border: 1px solid white;\"> \n",
    "    <h3>Exercise 6 (score:500)</h3>\n",
    "</div>"
   ]
  },
  {
   "cell_type": "markdown",
   "id": "ca8ca799",
   "metadata": {},
   "source": [
    "<div style=\"color: white;padding-top:18px;text-align:left;background-color:#940B92;border-radius:15px;border: 1px solid white;\"> \n",
    "    <h4>Question 01 (Project)</h4>\n",
    "<p>\n",
    "Create a Python program that allows a user to manage tasks, track the time spent on them, \n",
    "and mark them as done or undone.\n",
    "<ul>\n",
    "<li>A task has a name, a status (True, False), and a duration (in hours).</li>\n",
    "<li>The data will be stored across three lists: one for task names, one for task statuses, and \n",
    "one for task durations.</li>\n",
    "</ul> \n",
    "</p>\n",
    "\n",
    "</div>"
   ]
  },
  {
   "cell_type": "markdown",
   "id": "f9fbc71e",
   "metadata": {},
   "source": [
    "<h2 style=\"color: blue:; background-color: #E95793; margin-left:50px\">Good luck</h2>"
   ]
  }
 ],
 "metadata": {
  "kernelspec": {
   "display_name": "Python 3 (Spyder)",
   "language": "python3",
   "name": "python3"
  },
  "language_info": {
   "codemirror_mode": {
    "name": "ipython",
    "version": 3
   },
   "file_extension": ".py",
   "mimetype": "text/x-python",
   "name": "python",
   "nbconvert_exporter": "python",
   "pygments_lexer": "ipython3",
   "version": "3.10.13"
  }
 },
 "nbformat": 4,
 "nbformat_minor": 5
}
